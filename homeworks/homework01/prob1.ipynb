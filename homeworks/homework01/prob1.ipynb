{
 "cells": [
  {
   "cell_type": "markdown",
   "metadata": {},
   "source": [
    "# EECS16A: Homework 1"
   ]
  },
  {
   "cell_type": "markdown",
   "metadata": {},
   "source": [
    "## Problem 1"
   ]
  },
  {
   "cell_type": "markdown",
   "metadata": {},
   "source": [
    "## Problem 1.2 Dutta’s Optimal Boba"
   ]
  },
  {
   "cell_type": "code",
   "execution_count": 4,
   "metadata": {},
   "outputs": [
    {
     "data": {
      "text/plain": [
       "'/Users/zarathustra/anaconda3/envs/16A/bin/python'"
      ]
     },
     "execution_count": 4,
     "metadata": {},
     "output_type": "execute_result"
    }
   ],
   "source": [
    "import sys\n",
    "sys.executable"
   ]
  },
  {
   "cell_type": "code",
   "execution_count": 6,
   "metadata": {},
   "outputs": [
    {
     "name": "stdout",
     "output_type": "stream",
     "text": [
      "[[0.33333333 0.33333333 0.         0.33333333]\n",
      " [0.33333333 0.33333333 0.33333333 0.        ]\n",
      " [0.         0.4        0.6        0.        ]\n",
      " [0.66666667 0.33333333 0.         0.        ]] [7.         7.         7.4        6.33333333]\n",
      "[7. 5. 9. 9.]\n"
     ]
    }
   ],
   "source": [
    "import numpy as np\n",
    "from scipy.linalg import solve\n",
    "A = np.array([\n",
    "    [1/3, 1/3, 0, 1/3],\n",
    "    [1/3, 1/3, 1/3, 0],\n",
    "    [0, 2/5, 3/5, 0],\n",
    "    [2/3, 1/3, 0, 0]\n",
    "])\n",
    "b = np.array([7, 7, 7 + 2/5, 6 + 1/3]).T\n",
    "print(A, b)\n",
    "x = solve(A, b)\n",
    "print(x)"
   ]
  },
  {
   "cell_type": "markdown",
   "metadata": {},
   "source": [
    "So we can see that Green and Earl Grey have the highest scores,\n",
    "any combination of these two will have the best score 9."
   ]
  },
  {
   "cell_type": "markdown",
   "metadata": {},
   "source": [
    "## Problem 2: Filtering Out The Troll"
   ]
  },
  {
   "cell_type": "code",
   "execution_count": null,
   "metadata": {},
   "outputs": [],
   "source": [
    "import warnings\n",
    "import wave as wv\n",
    "\n",
    "import matplotlib.pyplot as plt\n",
    "import numpy as np\n",
    "import scipy\n",
    "import scipy.io.wavfile\n",
    "from IPython.display import Audio\n",
    "from scipy import io\n",
    "from scipy.io.wavfile import read\n",
    "\n",
    "# For this to work make sure to download m1.wav and m2.wav to the same location as this jupyter notebook\n",
    "warnings.filterwarnings(\"ignore\")\n",
    "sound_file_1 = \"m1.wav\"\n",
    "sound_file_2 = \"m2.wav\""
   ]
  },
  {
   "cell_type": "markdown",
   "metadata": {},
   "source": [
    "Let's listen to the recording of the first microphone (it can take some time to load the sound file). Run the cell below, then press the play button to listen."
   ]
  },
  {
   "cell_type": "code",
   "execution_count": null,
   "metadata": {},
   "outputs": [],
   "source": [
    "Audio(url=\"m1.wav\", autoplay=False)"
   ]
  },
  {
   "cell_type": "markdown",
   "metadata": {},
   "source": [
    "And this is the recording of the second microphone (it can take some time to load the sound file). Run the cell below, then press the play button to listen."
   ]
  },
  {
   "cell_type": "code",
   "execution_count": null,
   "metadata": {},
   "outputs": [],
   "source": [
    "Audio(url=\"m2.wav\", autoplay=False)"
   ]
  },
  {
   "cell_type": "markdown",
   "metadata": {},
   "source": [
    "We read the first recording to the variable `corrupt1` and the second recording to `corrupt2`. Treat `corrupt1` and `corrupt2` as the two sound recordings picked up by microphone 1 and microphone 2 respectively."
   ]
  },
  {
   "cell_type": "code",
   "execution_count": null,
   "metadata": {},
   "outputs": [],
   "source": [
    "rate1, corrupt1 = scipy.io.wavfile.read(\"m1.wav\")\n",
    "rate2, corrupt2 = scipy.io.wavfile.read(\"m2.wav\")"
   ]
  },
  {
   "cell_type": "markdown",
   "metadata": {},
   "source": [
    "Enter the weights of the two recordings to get the clean speech.\n",
    "\n",
    "Note: The square root of a number $a$ can be written as ```np.sqrt(a)``` in IPython."
   ]
  },
  {
   "cell_type": "code",
   "execution_count": null,
   "metadata": {},
   "outputs": [],
   "source": [
    "# enter the weights u (recording 1) and v (recording 2)\n",
    "u = \n",
    "v ="
   ]
  },
  {
   "cell_type": "markdown",
   "metadata": {},
   "source": [
    "Weighted combination of the two recordings:"
   ]
  },
  {
   "cell_type": "code",
   "execution_count": null,
   "metadata": {},
   "outputs": [],
   "source": [
    "a = u * corrupt1 + v * corrupt2"
   ]
  },
  {
   "cell_type": "markdown",
   "metadata": {},
   "source": [
    "Let's listen to the resulting sound file (make sure your speaker's volume is not very high, the sound may be loud if things go wrong)."
   ]
  },
  {
   "cell_type": "code",
   "execution_count": null,
   "metadata": {},
   "outputs": [],
   "source": [
    "Audio(data=a, rate=rate1)"
   ]
  }
 ],
 "metadata": {
  "anaconda-cloud": {},
  "kernelspec": {
   "display_name": "Python 3",
   "language": "python",
   "name": "python3"
  },
  "language_info": {
   "codemirror_mode": {
    "name": "ipython",
    "version": 3
   },
   "file_extension": ".py",
   "mimetype": "text/x-python",
   "name": "python",
   "nbconvert_exporter": "python",
   "pygments_lexer": "ipython3",
   "version": "3.7.6"
  }
 },
 "nbformat": 4,
 "nbformat_minor": 1
}
