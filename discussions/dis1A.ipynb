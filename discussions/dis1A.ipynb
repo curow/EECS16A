{
 "cells": [
  {
   "cell_type": "markdown",
   "metadata": {},
   "source": [
    "# EE16A Discussion 1A"
   ]
  },
  {
   "cell_type": "markdown",
   "metadata": {},
   "source": [
    "## Solving Systems of Equations: Visualization\n",
    "### Initialization\n",
    "First, run this command in your terminal to install some dependencies:\n",
    "\n",
    "    pip install mpld3 plotly\n",
    "\n",
    "Then run the code in the next block to set up functions that the other blocks\n",
    "depend on."
   ]
  },
  {
   "cell_type": "code",
   "execution_count": 1,
   "metadata": {},
   "outputs": [
    {
     "ename": "ModuleNotFoundError",
     "evalue": "No module named 'matplotlib'",
     "output_type": "error",
     "traceback": [
      "\u001b[0;31m---------------------------------------------------------------------------\u001b[0m",
      "\u001b[0;31mModuleNotFoundError\u001b[0m                       Traceback (most recent call last)",
      "\u001b[0;32m<ipython-input-1-fa3a9e88c785>\u001b[0m in \u001b[0;36m<module>\u001b[0;34m\u001b[0m\n\u001b[1;32m      1\u001b[0m \u001b[0;32mimport\u001b[0m \u001b[0mnumpy\u001b[0m \u001b[0;32mas\u001b[0m \u001b[0mnp\u001b[0m\u001b[0;34m\u001b[0m\u001b[0;34m\u001b[0m\u001b[0m\n\u001b[0;32m----> 2\u001b[0;31m \u001b[0;32mimport\u001b[0m \u001b[0mmpld3\u001b[0m\u001b[0;34m\u001b[0m\u001b[0;34m\u001b[0m\u001b[0m\n\u001b[0m\u001b[1;32m      3\u001b[0m \u001b[0;32mimport\u001b[0m \u001b[0mnumpy\u001b[0m\u001b[0;34m.\u001b[0m\u001b[0mmatlib\u001b[0m\u001b[0;34m\u001b[0m\u001b[0;34m\u001b[0m\u001b[0m\n\u001b[1;32m      4\u001b[0m \u001b[0;32mimport\u001b[0m \u001b[0mmatplotlib\u001b[0m\u001b[0;34m.\u001b[0m\u001b[0mpyplot\u001b[0m \u001b[0;32mas\u001b[0m \u001b[0mplt\u001b[0m\u001b[0;34m\u001b[0m\u001b[0;34m\u001b[0m\u001b[0m\n\u001b[1;32m      5\u001b[0m \u001b[0;32mimport\u001b[0m \u001b[0mplotly\u001b[0m\u001b[0;34m.\u001b[0m\u001b[0mplotly\u001b[0m \u001b[0;32mas\u001b[0m \u001b[0mpy\u001b[0m\u001b[0;34m\u001b[0m\u001b[0;34m\u001b[0m\u001b[0m\n",
      "\u001b[0;32m~/anaconda3/envs/16A/lib/python3.7/site-packages/mpld3/__init__.py\u001b[0m in \u001b[0;36m<module>\u001b[0;34m\u001b[0m\n\u001b[1;32m     39\u001b[0m \u001b[0;34m\u001b[0m\u001b[0m\n\u001b[1;32m     40\u001b[0m \u001b[0;32mfrom\u001b[0m \u001b[0;34m.\u001b[0m\u001b[0m__about__\u001b[0m \u001b[0;32mimport\u001b[0m \u001b[0m__version__\u001b[0m\u001b[0;34m\u001b[0m\u001b[0;34m\u001b[0m\u001b[0m\n\u001b[0;32m---> 41\u001b[0;31m \u001b[0;32mfrom\u001b[0m \u001b[0;34m.\u001b[0m \u001b[0;32mimport\u001b[0m \u001b[0mplugins\u001b[0m\u001b[0;34m\u001b[0m\u001b[0;34m\u001b[0m\u001b[0m\n\u001b[0m\u001b[1;32m     42\u001b[0m \u001b[0;32mfrom\u001b[0m \u001b[0;34m.\u001b[0m \u001b[0;32mimport\u001b[0m \u001b[0murls\u001b[0m\u001b[0;34m\u001b[0m\u001b[0;34m\u001b[0m\u001b[0m\n\u001b[1;32m     43\u001b[0m \u001b[0;32mfrom\u001b[0m \u001b[0;34m.\u001b[0m\u001b[0m_display\u001b[0m \u001b[0;32mimport\u001b[0m \u001b[0;34m*\u001b[0m\u001b[0;34m\u001b[0m\u001b[0;34m\u001b[0m\u001b[0m\n",
      "\u001b[0;32m~/anaconda3/envs/16A/lib/python3.7/site-packages/mpld3/plugins.py\u001b[0m in \u001b[0;36m<module>\u001b[0;34m\u001b[0m\n\u001b[1;32m     16\u001b[0m \u001b[0;32mimport\u001b[0m \u001b[0mjson\u001b[0m\u001b[0;34m\u001b[0m\u001b[0;34m\u001b[0m\u001b[0m\n\u001b[1;32m     17\u001b[0m \u001b[0;32mimport\u001b[0m \u001b[0muuid\u001b[0m\u001b[0;34m\u001b[0m\u001b[0;34m\u001b[0m\u001b[0m\n\u001b[0;32m---> 18\u001b[0;31m \u001b[0;32mimport\u001b[0m \u001b[0mmatplotlib\u001b[0m\u001b[0;34m\u001b[0m\u001b[0;34m\u001b[0m\u001b[0m\n\u001b[0m\u001b[1;32m     19\u001b[0m \u001b[0;34m\u001b[0m\u001b[0m\n\u001b[1;32m     20\u001b[0m \u001b[0;32mfrom\u001b[0m \u001b[0;34m.\u001b[0m\u001b[0mutils\u001b[0m \u001b[0;32mimport\u001b[0m \u001b[0mget_id\u001b[0m\u001b[0;34m\u001b[0m\u001b[0;34m\u001b[0m\u001b[0m\n",
      "\u001b[0;31mModuleNotFoundError\u001b[0m: No module named 'matplotlib'"
     ]
    }
   ],
   "source": [
    "import numpy as np\n",
    "import mpld3\n",
    "import numpy.matlib\n",
    "import matplotlib.pyplot as plt\n",
    "import plotly.plotly as py\n",
    "import plotly.offline as offline\n",
    "from plotly.graph_objs import *\n",
    "from mpl_toolkits.mplot3d import Axes3D\n",
    "from numpy import pi, cos, exp\n",
    "\n",
    "%matplotlib inline\n",
    "mpld3.enable_notebook()\n",
    "# offline.init_notebook_mode()\n",
    "offline.init_notebook_mode(connected=True)\n",
    "\n",
    "# Define the function to be plotted\n",
    "def fxy(x, y):    \n",
    "    A = 1  # choose a maximum amplitude \n",
    "    return A*(cos(pi*x*y))**2 * exp(-(x**2+y**2)/2.)\n",
    "\n",
    "def line_xy(a,b,c):\n",
    "    '''For the parameters a,b,c this function returns an array of (x,y) pairs\n",
    "    that are on the line ax+by = c'''\n",
    "    b = b+.00001\n",
    "    x_range = [-100, 100]\n",
    "    x = np.linspace(x_range[0],x_range[1],100)\n",
    "    y = (c - a*x) / b    \n",
    "    return x, y\n",
    "\n",
    "def plane_xyz(a,b,c,d):\n",
    "    '''For the parameters a,b,c,d this function returns an array of (x,y,z) pairs\n",
    "    that are on the line ax+by+cz = d'''\n",
    "    \n",
    "    c = c+.00001\n",
    "    x_range = [-10, 10]\n",
    "    x = np.linspace(x_range[0],x_range[1],100)\n",
    "    y = np.linspace(x_range[0],x_range[1],100)\n",
    "    yt = y[:,np.newaxis]\n",
    "    \n",
    "    x_mat = np.matlib.repmat(x,len(y),1)\n",
    "    y_mat = np.matlib.repmat(yt,1,len(x))\n",
    "    z_mat = (d - a*x_mat - b*y_mat) / c\n",
    "#   for k in range(0,len(zpoints)): \n",
    "#           x_short,y_short=line_xy(a,b,c*zpoints[k]+d)\n",
    "#           z_short=np.ones(len(y_short))*zpoints[k]\n",
    "#           x=np.append(x,x_short)\n",
    "#           y=np.append(y,y_short)\n",
    "#           z=np.append(z,z_short)\n",
    "    return x, y, z_mat\n",
    "\n",
    "axis = dict(\n",
    "    showbackground=True,                  # (!) show axis background\n",
    "    backgroundcolor=\"rgb(204, 204, 204)\", # set background color to grey\n",
    "    gridcolor=\"rgb(255, 255, 255)\",       # set grid line color\n",
    "    zerolinecolor=\"rgb(255, 255, 255)\",   # set zero grid line color\n",
    "    range=[-10, 10]\n",
    ")\n",
    "\n",
    "# Make a layout object\n",
    "layout = Layout(\n",
    "    title='Planes in 3D',   # set plot title\n",
    "    scene=Scene(            # (!) axes are part of a 'scene' in 3d plots\n",
    "        xaxis=XAxis(axis),  # set x-axis style\n",
    "        yaxis=YAxis(axis),  # set y-axis style\n",
    "        zaxis=ZAxis(axis),  # set z-axis style\n",
    "    ),\n",
    "    showlegend=False,\n",
    ")"
   ]
  },
  {
   "cell_type": "markdown",
   "metadata": {},
   "source": [
    "### Graphing System of Two Equations\n",
    "\n",
    "For the first half of Problem 2a, you were asked to solve systems of two equations. Now we will take a graphical interpretation of the same problems. Each equation can be rewritten as $ax+by=c$ and thus describes a line in $\\mathbb{R}^2$. Therefore, the solution to the system of equations must lie on the lines described by the system of equations.\n",
    "\n",
    "In the next block, there is code to graph two lines. Play around with the parameters $a1,b1,\\ldots,c2$ to create different lines. Change the parameters to describe the system of equations from parts i-iii. For each part use the graphs to explain the results you found in Problem 2a parts i-iii."
   ]
  },
  {
   "cell_type": "code",
   "execution_count": 2,
   "metadata": {},
   "outputs": [
    {
     "ename": "NameError",
     "evalue": "name 'line_xy' is not defined",
     "output_type": "error",
     "traceback": [
      "\u001b[0;31m---------------------------------------------------------------------------\u001b[0m",
      "\u001b[0;31mNameError\u001b[0m                                 Traceback (most recent call last)",
      "\u001b[0;32m<ipython-input-2-4c4815a41499>\u001b[0m in \u001b[0;36m<module>\u001b[0;34m\u001b[0m\n\u001b[1;32m     10\u001b[0m \u001b[0mc2\u001b[0m \u001b[0;34m=\u001b[0m \u001b[0;36m3\u001b[0m\u001b[0;34m\u001b[0m\u001b[0;34m\u001b[0m\u001b[0m\n\u001b[1;32m     11\u001b[0m \u001b[0;34m\u001b[0m\u001b[0m\n\u001b[0;32m---> 12\u001b[0;31m \u001b[0mx1\u001b[0m\u001b[0;34m,\u001b[0m \u001b[0my1\u001b[0m \u001b[0;34m=\u001b[0m \u001b[0mline_xy\u001b[0m\u001b[0;34m(\u001b[0m\u001b[0ma1\u001b[0m\u001b[0;34m,\u001b[0m\u001b[0mb1\u001b[0m\u001b[0;34m,\u001b[0m\u001b[0mc1\u001b[0m\u001b[0;34m)\u001b[0m\u001b[0;34m\u001b[0m\u001b[0;34m\u001b[0m\u001b[0m\n\u001b[0m\u001b[1;32m     13\u001b[0m \u001b[0mx2\u001b[0m\u001b[0;34m,\u001b[0m \u001b[0my2\u001b[0m \u001b[0;34m=\u001b[0m \u001b[0mline_xy\u001b[0m\u001b[0;34m(\u001b[0m\u001b[0ma2\u001b[0m\u001b[0;34m,\u001b[0m\u001b[0mb2\u001b[0m\u001b[0;34m,\u001b[0m\u001b[0mc2\u001b[0m\u001b[0;34m)\u001b[0m\u001b[0;34m\u001b[0m\u001b[0;34m\u001b[0m\u001b[0m\n\u001b[1;32m     14\u001b[0m \u001b[0;34m\u001b[0m\u001b[0m\n",
      "\u001b[0;31mNameError\u001b[0m: name 'line_xy' is not defined"
     ]
    }
   ],
   "source": [
    "# use for parts i-iii\n",
    "# Parameters for the first line\n",
    "a1 = 2\n",
    "b1 = 2\n",
    "c1 = 7\n",
    "\n",
    "# Parameters for the second line\n",
    "a2 = 1\n",
    "b2 = 1\n",
    "c2 = 3\n",
    "\n",
    "x1, y1 = line_xy(a1,b1,c1)\n",
    "x2, y2 = line_xy(a2,b2,c2)\n",
    "\n",
    "fig = plt.figure()\n",
    "ax = fig.add_subplot(111,xlim=[0,5],ylim=[0,5])\n",
    "ax.plot(x1,y1,'-.b')\n",
    "ax.plot(x2,y2,'r')\n",
    "ax.grid(True)\n",
    "ax.legend(['Line 1','Line 2'])"
   ]
  },
  {
   "cell_type": "markdown",
   "metadata": {},
   "source": [
    "### Graphing System of Three Equations\n",
    "\n",
    "For a system of three equations, each equation can be rewritten as $ax+by+cz=d$. This is the equation for a plane in $\\mathbb{R}^3$. As you might have already guessed, the solution for the system of equations must lie on all of the planes described by the system.\n",
    "\n",
    "In the next block, there is code to graph planes. Play around with the parameters $a1,b1,\\ldots,d3$ to create different planes. Change the parameters to describe the system of equations from the second half of Problem 1a. Use the graphs to explain the results you obtained in Problem 1a parts iv-vi.\n",
    "\n",
    "**Rotate the figures to make sure you see all the graphs. It will take a few seconds for the figure to load.**"
   ]
  },
  {
   "cell_type": "code",
   "execution_count": 3,
   "metadata": {},
   "outputs": [
    {
     "ename": "NameError",
     "evalue": "name 'plane_xyz' is not defined",
     "output_type": "error",
     "traceback": [
      "\u001b[0;31m---------------------------------------------------------------------------\u001b[0m",
      "\u001b[0;31mNameError\u001b[0m                                 Traceback (most recent call last)",
      "\u001b[0;32m<ipython-input-3-f0e1116e0f67>\u001b[0m in \u001b[0;36m<module>\u001b[0;34m\u001b[0m\n\u001b[1;32m     20\u001b[0m \u001b[0;34m\u001b[0m\u001b[0m\n\u001b[1;32m     21\u001b[0m \u001b[0;31m# Plotting\u001b[0m\u001b[0;34m\u001b[0m\u001b[0;34m\u001b[0m\u001b[0;34m\u001b[0m\u001b[0m\n\u001b[0;32m---> 22\u001b[0;31m \u001b[0mx1\u001b[0m\u001b[0;34m,\u001b[0m \u001b[0my1\u001b[0m\u001b[0;34m,\u001b[0m \u001b[0mz1\u001b[0m \u001b[0;34m=\u001b[0m \u001b[0mplane_xyz\u001b[0m\u001b[0;34m(\u001b[0m\u001b[0ma1\u001b[0m\u001b[0;34m,\u001b[0m\u001b[0mb1\u001b[0m\u001b[0;34m,\u001b[0m\u001b[0mc1\u001b[0m\u001b[0;34m,\u001b[0m\u001b[0md1\u001b[0m\u001b[0;34m)\u001b[0m\u001b[0;34m\u001b[0m\u001b[0;34m\u001b[0m\u001b[0m\n\u001b[0m\u001b[1;32m     23\u001b[0m \u001b[0mx2\u001b[0m\u001b[0;34m,\u001b[0m \u001b[0my2\u001b[0m\u001b[0;34m,\u001b[0m \u001b[0mz2\u001b[0m \u001b[0;34m=\u001b[0m \u001b[0mplane_xyz\u001b[0m\u001b[0;34m(\u001b[0m\u001b[0ma2\u001b[0m\u001b[0;34m,\u001b[0m\u001b[0mb2\u001b[0m\u001b[0;34m,\u001b[0m\u001b[0mc2\u001b[0m\u001b[0;34m,\u001b[0m\u001b[0md2\u001b[0m\u001b[0;34m)\u001b[0m\u001b[0;34m\u001b[0m\u001b[0;34m\u001b[0m\u001b[0m\n\u001b[1;32m     24\u001b[0m \u001b[0mx3\u001b[0m\u001b[0;34m,\u001b[0m \u001b[0my3\u001b[0m\u001b[0;34m,\u001b[0m \u001b[0mz3\u001b[0m \u001b[0;34m=\u001b[0m \u001b[0mplane_xyz\u001b[0m\u001b[0;34m(\u001b[0m\u001b[0ma3\u001b[0m\u001b[0;34m,\u001b[0m\u001b[0mb3\u001b[0m\u001b[0;34m,\u001b[0m\u001b[0mc3\u001b[0m\u001b[0;34m,\u001b[0m\u001b[0md3\u001b[0m\u001b[0;34m)\u001b[0m\u001b[0;34m\u001b[0m\u001b[0;34m\u001b[0m\u001b[0m\n",
      "\u001b[0;31mNameError\u001b[0m: name 'plane_xyz' is not defined"
     ]
    }
   ],
   "source": [
    "# Use for parts iv-vi\n",
    "\n",
    "# Parameters for the first plane\n",
    "a1 = 2\n",
    "b1 = 1\n",
    "c1 = 1\n",
    "d1 = 2\n",
    "\n",
    "# Parameters for the second plane\n",
    "a2 = 1\n",
    "b2 = -1\n",
    "c2 = 0\n",
    "d2 = 1\n",
    "\n",
    "# Parameters for the third plane\n",
    "a3 = 0\n",
    "b3 = 2\n",
    "c3 = 1\n",
    "d3 = 1\n",
    "\n",
    "# Plotting \n",
    "x1, y1, z1 = plane_xyz(a1,b1,c1,d1)\n",
    "x2, y2, z2 = plane_xyz(a2,b2,c2,d2)\n",
    "x3, y3, z3 = plane_xyz(a3,b3,c3,d3)\n",
    "\n",
    "print(x1.shape)\n",
    "blue=[[0, 'rgb(0,0,255)'], [1, 'rgb(0,0,255)']]\n",
    "green=[[0, 'rgb(0,255,0)'], [1, 'rgb(0,255,0)']]\n",
    "red=[[0, 'rgb(255,0,0)'], [1, 'rgb(255,0,0)']]\n",
    "\n",
    "trace1 = Surface(z=z1, x=x1,y=y1, colorscale=blue,name='First Plane')\n",
    "trace2 = Surface(z=z2, x=x2,y=y2, colorscale=green, name='Second Plane')\n",
    "trace3 = Surface(z=z3, x=x3,y=y3, colorscale=red, name='Third Plane')\n",
    "data = Data([trace1,trace2, trace3])\n",
    "fig = Figure(data=data,layout=layout)\n",
    "offline.iplot(fig, filename='planes')"
   ]
  },
  {
   "cell_type": "code",
   "execution_count": null,
   "metadata": {},
   "outputs": [],
   "source": []
  },
  {
   "cell_type": "code",
   "execution_count": null,
   "metadata": {},
   "outputs": [],
   "source": []
  }
 ],
 "metadata": {
  "anaconda-cloud": {},
  "kernelspec": {
   "display_name": "Python 3",
   "language": "python",
   "name": "python3"
  },
  "language_info": {
   "codemirror_mode": {
    "name": "ipython",
    "version": 3
   },
   "file_extension": ".py",
   "mimetype": "text/x-python",
   "name": "python",
   "nbconvert_exporter": "python",
   "pygments_lexer": "ipython3",
   "version": "3.7.6"
  }
 },
 "nbformat": 4,
 "nbformat_minor": 1
}
